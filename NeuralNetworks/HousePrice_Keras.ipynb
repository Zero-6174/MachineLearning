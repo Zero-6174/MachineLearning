{
 "cells": [
  {
   "cell_type": "markdown",
   "id": "6ee2b1bf",
   "metadata": {},
   "source": [
    "### Steps to build Neural Network using Keras\n",
    "\n",
    "There are six main steps involved in building a model using Keras:\n",
    "\n",
    "1. Load the data:\n",
    "        load_data()\n",
    "            train_set_x = train_set_x.T\n",
    "            train_set_y = train_set_y.T\n",
    "            test_set_x = test_set_x.T\n",
    "            test_set_y = test_set_y.T\n",
    "\n",
    "2. Define the model:\n",
    "        nn_model = Sequential()\n",
    "        nn_model.add(Dense(35, input_dim=784, activation='relu'))\n",
    "\n",
    "3. Compile the model:\n",
    "        In a classification problem, the loss function is the cross-entropy loss, which is \n",
    "        'categorical_crossentropy' in Keras. The metrics and the optimiser we use\n",
    "        are 'accuracy' and 'adam'.\n",
    "            nn_model.compile(loss='categorical_crossentropy', optimizer='adam', metrics=['accuracy'])\n",
    "\n",
    "4. Fit the model:\n",
    "        nn_model.fit(train_set_x, train_set_y, epochs=10, batch_size=32)\n",
    "\n",
    "\n",
    "5. Make predictions:\n",
    "        predictions = nn_model.predict(test_set_x)\n",
    "        \n",
    "6. Evaluate the model:\n",
    "        we can see the accuracy scores that we finally achieved using the following command:\n",
    "            scores_train = nn_model.evaluate(train_set_x, train_set_y)\n",
    "            print(\"\\n%s: %.2f%%\" % (nn_model.metrics_names[1], scores_train[1]*100))\n",
    "        To get the score on the test data, we can write the following code:\n",
    "            cores_test = nn_model.evaluate(test_set_x, test_set_y)\n",
    "            print(\"\\n%s: %.2f%%\" % (nn_model.metrics_names[1], scores_test[1]*100))"
   ]
  },
  {
   "cell_type": "markdown",
   "id": "4bc65d0e",
   "metadata": {},
   "source": [
    "#### Build House price prediction using Keras"
   ]
  },
  {
   "cell_type": "code",
   "execution_count": 1,
   "id": "15e24b50",
   "metadata": {},
   "outputs": [],
   "source": [
    "import pandas as pd\n",
    "import numpy as np\n",
    "from sklearn.preprocessing import StandardScaler\n",
    "\n",
    "import warnings\n",
    "warnings.filterwarnings('ignore')"
   ]
  },
  {
   "cell_type": "code",
   "execution_count": 2,
   "id": "a8173b1b",
   "metadata": {},
   "outputs": [],
   "source": [
    "data = pd.read_csv('house_price_full.csv')"
   ]
  },
  {
   "cell_type": "code",
   "execution_count": 3,
   "id": "a0e2917e",
   "metadata": {},
   "outputs": [],
   "source": [
    "X = data.copy()\n",
    "#drop target variable\n",
    "y = X.pop('price')"
   ]
  },
  {
   "cell_type": "code",
   "execution_count": 4,
   "id": "039ce575",
   "metadata": {},
   "outputs": [],
   "source": [
    "scaler = StandardScaler()\n",
    "X = scaler.fit_transform(X)\n",
    "\n",
    "df_scaled = pd.DataFrame(X)"
   ]
  },
  {
   "cell_type": "code",
   "execution_count": 5,
   "id": "662dcb31",
   "metadata": {},
   "outputs": [],
   "source": [
    "# log transform the 'y' variable\n",
    "Y = np.log(y)"
   ]
  },
  {
   "cell_type": "code",
   "execution_count": 6,
   "id": "47397e57",
   "metadata": {},
   "outputs": [
    {
     "data": {
      "text/plain": [
       "0      12.653958\n",
       "1      14.684290\n",
       "2      12.742566\n",
       "3      12.948010\n",
       "4      13.217674\n",
       "         ...    \n",
       "494    13.380102\n",
       "495    13.764217\n",
       "496    12.128111\n",
       "497    12.721886\n",
       "498    12.254863\n",
       "Name: price, Length: 499, dtype: float64"
      ]
     },
     "execution_count": 6,
     "metadata": {},
     "output_type": "execute_result"
    }
   ],
   "source": [
    "Y"
   ]
  },
  {
   "cell_type": "markdown",
   "id": "170b69f9",
   "metadata": {},
   "source": [
    "### Create Model using 'Keras'"
   ]
  },
  {
   "cell_type": "code",
   "execution_count": 7,
   "id": "2ee60b89",
   "metadata": {},
   "outputs": [
    {
     "name": "stderr",
     "output_type": "stream",
     "text": [
      "2023-01-07 20:13:20.613261: I tensorflow/core/platform/cpu_feature_guard.cc:193] This TensorFlow binary is optimized with oneAPI Deep Neural Network Library (oneDNN) to use the following CPU instructions in performance-critical operations:  AVX2 FMA\n",
      "To enable them in other operations, rebuild TensorFlow with the appropriate compiler flags.\n"
     ]
    }
   ],
   "source": [
    "from tensorflow import keras"
   ]
  },
  {
   "cell_type": "code",
   "execution_count": 8,
   "id": "f1698b66",
   "metadata": {},
   "outputs": [
    {
     "name": "stderr",
     "output_type": "stream",
     "text": [
      "2023-01-07 20:13:23.596757: I tensorflow/core/platform/cpu_feature_guard.cc:193] This TensorFlow binary is optimized with oneAPI Deep Neural Network Library (oneDNN) to use the following CPU instructions in performance-critical operations:  AVX2 FMA\n",
      "To enable them in other operations, rebuild TensorFlow with the appropriate compiler flags.\n"
     ]
    }
   ],
   "source": [
    "model = keras.Sequential(\n",
    "    [\n",
    "        keras.layers.Dense(\n",
    "            2, activation=\"sigmoid\", input_shape=(X.shape[-1],)\n",
    "        ),\n",
    "        keras.layers.Dense(1, activation=\"linear\")\n",
    "    ]\n",
    ")"
   ]
  },
  {
   "cell_type": "code",
   "execution_count": 9,
   "id": "dee78667",
   "metadata": {},
   "outputs": [
    {
     "name": "stdout",
     "output_type": "stream",
     "text": [
      "Model: \"sequential\"\n",
      "_________________________________________________________________\n",
      " Layer (type)                Output Shape              Param #   \n",
      "=================================================================\n",
      " dense (Dense)               (None, 2)                 6         \n",
      "                                                                 \n",
      " dense_1 (Dense)             (None, 1)                 3         \n",
      "                                                                 \n",
      "=================================================================\n",
      "Total params: 9\n",
      "Trainable params: 9\n",
      "Non-trainable params: 0\n",
      "_________________________________________________________________\n"
     ]
    }
   ],
   "source": [
    "model.summary()"
   ]
  },
  {
   "cell_type": "markdown",
   "id": "38f1ef17",
   "metadata": {},
   "source": [
    "### Train the model"
   ]
  },
  {
   "cell_type": "code",
   "execution_count": 10,
   "id": "3a589dcc",
   "metadata": {},
   "outputs": [],
   "source": [
    "#Compile the model\n",
    "model.compile(\n",
    "        optimizer=keras.optimizers.SGD(), loss=\"mean_squared_error\"\n",
    ")"
   ]
  },
  {
   "cell_type": "code",
   "execution_count": 11,
   "id": "c07d1a7f",
   "metadata": {},
   "outputs": [
    {
     "name": "stdout",
     "output_type": "stream",
     "text": [
      "Epoch 1/10\n",
      "16/16 [==============================] - 0s 1ms/step - loss: 99.8916\n",
      "Epoch 2/10\n",
      "16/16 [==============================] - 0s 1ms/step - loss: 26.3871\n",
      "Epoch 3/10\n",
      "16/16 [==============================] - 0s 1ms/step - loss: 4.7660\n",
      "Epoch 4/10\n",
      "16/16 [==============================] - 0s 1ms/step - loss: 0.9552\n",
      "Epoch 5/10\n",
      "16/16 [==============================] - 0s 2ms/step - loss: 0.3557\n",
      "Epoch 6/10\n",
      "16/16 [==============================] - 0s 1ms/step - loss: 0.2404\n",
      "Epoch 7/10\n",
      "16/16 [==============================] - 0s 1ms/step - loss: 0.2027\n",
      "Epoch 8/10\n",
      "16/16 [==============================] - 0s 1ms/step - loss: 0.1837\n",
      "Epoch 9/10\n",
      "16/16 [==============================] - 0s 2ms/step - loss: 0.1720\n",
      "Epoch 10/10\n",
      "16/16 [==============================] - 0s 1ms/step - loss: 0.1635\n"
     ]
    },
    {
     "data": {
      "text/plain": [
       "<keras.callbacks.History at 0x7f97db25db20>"
      ]
     },
     "execution_count": 11,
     "metadata": {},
     "output_type": "execute_result"
    }
   ],
   "source": [
    "# Fit the model\n",
    "model.fit(X, Y.values, epochs=10, batch_size=32)"
   ]
  },
  {
   "cell_type": "code",
   "execution_count": 13,
   "id": "ce12b23e",
   "metadata": {},
   "outputs": [
    {
     "name": "stdout",
     "output_type": "stream",
     "text": [
      "16/16 [==============================] - 0s 917us/step\n"
     ]
    },
    {
     "data": {
      "text/plain": [
       "array([12.768788 , 13.484518 , 13.160198 , 13.197314 , 12.864305 ,\n",
       "       12.780255 , 13.099406 , 13.311305 , 13.387447 , 12.518707 ,\n",
       "       13.031054 , 13.395849 , 13.348635 , 12.55955  , 13.179852 ,\n",
       "       12.654676 , 12.938578 , 13.461197 , 12.792193 , 12.637731 ,\n",
       "       13.311034 , 12.45452  , 13.055984 , 13.319962 , 12.589903 ,\n",
       "       13.2423525, 13.360599 , 13.0416765, 13.129948 , 13.4468   ,\n",
       "       12.554602 , 13.373087 , 12.772863 , 13.357307 , 13.59655  ,\n",
       "       13.6100235, 12.716733 , 13.115468 , 13.176333 , 13.372286 ,\n",
       "       12.945456 , 12.482239 , 12.756744 , 13.068203 , 13.013945 ,\n",
       "       12.620627 , 13.181635 , 13.160198 , 12.71273  , 13.520047 ,\n",
       "       13.311305 , 13.536301 , 13.481136 , 13.086229 , 12.704292 ,\n",
       "       12.8494835, 13.035377 , 13.487543 , 12.752977 , 13.247322 ,\n",
       "       13.520047 , 13.472071 , 13.319962 , 13.42676  , 13.395849 ,\n",
       "       12.79572  , 12.992421 , 12.487513 , 13.589069 , 13.293472 ,\n",
       "       13.227228 , 13.520673 , 13.0906105, 13.143718 , 12.760904 ,\n",
       "       13.051547 , 13.022652 , 13.319962 , 12.990113 , 13.409313 ,\n",
       "       12.9006195, 13.608835 , 13.558232 , 13.086229 , 13.125615 ,\n",
       "       13.4387245, 12.968193 , 12.874789 , 13.133623 , 13.007533 ,\n",
       "       13.311452 , 13.27537  , 12.887028 , 13.356642 , 12.93166  ,\n",
       "       13.082903 , 13.011924 , 13.270479 , 12.822816 , 13.5794   ,\n",
       "       13.48288  , 13.202466 , 12.760904 , 13.142582 , 12.373335 ,\n",
       "       13.39213  , 12.956533 , 13.710953 , 12.748825 , 12.252497 ,\n",
       "       12.398178 , 13.108293 , 12.523823 , 12.960688 , 12.91485  ,\n",
       "       11.633471 , 13.306694 , 12.724817 , 13.315834 , 13.005465 ,\n",
       "       12.886219 , 12.852767 , 14.00306  , 13.132535 , 13.132535 ,\n",
       "       12.822816 , 12.482239 , 12.968193 , 13.154743 , 13.39213  ,\n",
       "       13.6100235, 12.924698 , 12.567324 , 13.473319 , 13.310639 ,\n",
       "       13.102438 , 13.086229 , 12.91485  , 13.080261 , 13.18081  ,\n",
       "       13.165614 , 12.981473 , 13.54359  , 13.72044  , 12.939268 ,\n",
       "       12.972544 , 12.8213005, 13.567682 , 13.670021 , 13.227978 ,\n",
       "       13.186117 , 12.445212 , 12.941131 , 12.776632 , 13.009761 ,\n",
       "       12.882046 , 13.197314 , 12.892154 , 12.650596 , 12.540554 ,\n",
       "       12.945456 , 12.983481 , 12.311544 , 12.979212 , 13.535932 ,\n",
       "       12.826937 , 12.518707 , 12.79572  , 12.523823 , 12.704557 ,\n",
       "       13.225953 , 13.096544 , 13.353285 , 12.992421 , 12.985838 ,\n",
       "       13.115468 , 12.907756 , 12.822816 , 12.500544 , 13.39851  ,\n",
       "       12.487513 , 13.026643 , 13.120456 , 12.728847 , 13.186117 ,\n",
       "       13.457998 , 12.949692 , 13.115468 , 12.788522 , 13.618636 ,\n",
       "       12.830367 , 12.896431 , 13.261431 , 13.565485 , 12.979212 ,\n",
       "       13.080261 , 12.907756 , 13.078621 , 13.434881 , 12.74501  ,\n",
       "       13.644111 , 13.622449 , 13.246493 , 13.179852 , 13.551191 ,\n",
       "       13.261457 , 13.488854 , 13.29807  , 12.679798 , 13.32424  ,\n",
       "       13.538505 , 12.577191 , 12.334758 , 13.143718 , 12.818605 ,\n",
       "       13.018342 , 12.830367 , 13.673108 , 13.186899 , 12.98805  ,\n",
       "       13.293472 , 12.288131 , 12.874789 , 13.169033 , 13.475117 ,\n",
       "       13.583441 , 12.71273  , 13.670021 , 13.438263 , 12.629199 ,\n",
       "       12.576173 , 12.469145 , 13.175465 , 13.724986 , 12.696344 ,\n",
       "       12.917694 , 12.959084 , 12.577191 , 13.1097   , 13.419865 ,\n",
       "       13.472071 , 12.453887 , 13.164659 , 12.692104 , 13.232599 ,\n",
       "       13.062115 , 13.011924 , 13.208057 , 13.735447 , 12.780713 ,\n",
       "       12.815224 , 13.126885 , 13.769257 , 12.899278 , 13.484111 ,\n",
       "       12.487513 , 12.945456 , 13.261275 , 13.154743 , 13.356642 ,\n",
       "       13.218351 , 13.217174 , 13.6100235, 13.39851  , 12.877781 ,\n",
       "       12.732861 , 12.86837  , 13.068203 , 13.099406 , 13.176333 ,\n",
       "       13.518688 , 13.560551 , 13.605384 , 13.108293 , 12.633172 ,\n",
       "       13.284532 , 12.826937 , 13.288998 , 13.212658 , 13.323858 ,\n",
       "       12.965836 , 12.683988 , 13.2520685, 12.979212 , 13.270149 ,\n",
       "       13.548759 , 13.165614 , 12.822816 , 12.514799 , 12.732861 ,\n",
       "       12.8033905, 13.091211 , 13.029035 , 12.959084 , 12.889259 ,\n",
       "       12.768788 , 13.121197 , 13.42676  , 12.899278 , 12.7999115,\n",
       "       12.985838 , 13.226656 , 13.003254 , 13.062115 , 12.998964 ,\n",
       "       13.103893 , 13.047937 , 12.491408 , 12.704557 , 13.632713 ,\n",
       "       13.647528 , 12.974854 , 13.287264 , 12.860973 , 12.96314  ,\n",
       "       12.732861 , 13.202985 , 13.2423525, 13.302587 , 12.700364 ,\n",
       "       13.005465 , 13.237136 , 13.246493 , 12.696344 , 12.921903 ,\n",
       "       13.289079 , 12.8559065, 13.176333 , 12.650596 , 13.105207 ,\n",
       "       13.351902 , 12.996704 , 12.764973 , 13.467253 , 13.018342 ,\n",
       "       13.165614 , 13.114106 , 12.949692 , 13.546102 , 13.072565 ,\n",
       "       12.807589 , 12.913397 , 12.882046 , 13.201814 , 12.883036 ,\n",
       "       13.311034 , 13.154743 , 13.138145 , 13.072565 , 13.051547 ,\n",
       "       12.841112 , 13.51458  , 12.907756 , 12.884989 , 12.788522 ,\n",
       "       13.186899 , 13.245958 , 13.026643 , 13.0906105, 13.387447 ,\n",
       "       13.538832 , 13.0906105, 12.896431 , 12.431997 , 12.646223 ,\n",
       "       12.74501  , 13.118426 , 13.055984 , 12.752977 , 13.191387 ,\n",
       "       12.688091 , 12.704557 , 12.811948 , 13.633534 , 12.917694 ,\n",
       "       13.208057 , 12.860149 , 12.807589 , 13.459638 , 12.952291 ,\n",
       "       12.84201  , 13.205028 , 12.822816 , 12.94796  , 12.764623 ,\n",
       "       13.340504 , 12.884989 , 12.8559065, 13.696985 , 12.985838 ,\n",
       "       13.631723 , 13.345146 , 12.716761 , 12.435871 , 13.115468 ,\n",
       "       12.841112 , 13.405741 , 13.62055  , 13.261275 , 12.807589 ,\n",
       "       13.078621 , 13.19662  , 12.724817 , 12.633172 , 13.5583725,\n",
       "       12.650596 , 12.807589 , 12.84906  , 13.339857 , 13.247175 ,\n",
       "       12.53281  , 12.889259 , 12.886219 , 12.822816 , 13.614762 ,\n",
       "       13.035377 , 13.154743 , 12.620627 , 13.830507 , 12.907756 ,\n",
       "       13.018158 , 13.429199 , 13.365259 , 12.974854 , 13.457998 ,\n",
       "       12.830367 , 13.175465 , 12.8569145, 12.998964 , 12.815224 ,\n",
       "       13.289079 , 12.907756 , 12.996704 , 12.778195 , 13.055984 ,\n",
       "       12.7925205, 13.139189 , 12.864305 , 12.822816 , 12.784433 ,\n",
       "       12.671464 , 13.361299 , 13.626202 , 13.119881 , 13.665349 ,\n",
       "       12.473034 , 13.444947 , 12.505739 , 12.8569145, 13.074252 ,\n",
       "       13.197314 , 13.018342 , 13.75515  , 12.737001 , 13.159197 ,\n",
       "       12.974854 , 13.108293 , 13.319962 , 13.365259 , 12.884989 ,\n",
       "       12.768788 , 13.576982 , 13.874631 , 12.476509 , 13.256195 ,\n",
       "       13.261431 , 13.2222185, 12.864305 , 12.776632 , 13.016227 ,\n",
       "       12.792193 , 13.805494 , 13.361299 , 13.202466 , 13.517324 ,\n",
       "       13.026643 , 13.037348 , 13.059217 , 12.93166  , 13.433547 ,\n",
       "       13.7498045, 13.020315 , 13.484518 , 13.279946 , 13.232201 ,\n",
       "       12.8033905, 13.417561 , 12.990113 , 13.558362 , 12.911863 ,\n",
       "       13.293472 , 12.700364 , 13.538832 , 12.469145 , 13.438263 ,\n",
       "       13.676148 , 12.792193 , 13.165614 , 12.514799 ], dtype=float32)"
      ]
     },
     "execution_count": 13,
     "metadata": {},
     "output_type": "execute_result"
    }
   ],
   "source": [
    "# Predict the model\n",
    "model.predict(X)[:,0]"
   ]
  },
  {
   "cell_type": "code",
   "execution_count": null,
   "id": "16ddf929",
   "metadata": {},
   "outputs": [],
   "source": []
  }
 ],
 "metadata": {
  "kernelspec": {
   "display_name": "Python 3 (ipykernel)",
   "language": "python",
   "name": "python3"
  },
  "language_info": {
   "codemirror_mode": {
    "name": "ipython",
    "version": 3
   },
   "file_extension": ".py",
   "mimetype": "text/x-python",
   "name": "python",
   "nbconvert_exporter": "python",
   "pygments_lexer": "ipython3",
   "version": "3.9.12"
  }
 },
 "nbformat": 4,
 "nbformat_minor": 5
}
