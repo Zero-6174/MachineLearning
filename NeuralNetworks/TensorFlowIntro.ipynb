{
 "cells": [
  {
   "cell_type": "code",
   "execution_count": null,
   "id": "66ed7f1c",
   "metadata": {},
   "outputs": [],
   "source": [
    "import tensorflow as tf\n",
    "import numpy as np\n",
    "\n",
    "import warnings\n",
    "warnings.filterwarnings(\"ignore\")"
   ]
  },
  {
   "cell_type": "code",
   "execution_count": null,
   "id": "f7bc09d8",
   "metadata": {},
   "outputs": [],
   "source": [
    "const_tensor = tf.constant([[1,2,3], [4,5,6]])\n",
    "var_tensor = tf.Variable([[1,2,3], [4,5,6]], dtype=tf.float32)\n",
    "bool_tensor = tf.Variable([True, False, True], dtype=tf.bool)"
   ]
  },
  {
   "cell_type": "code",
   "execution_count": null,
   "id": "d9c84491",
   "metadata": {},
   "outputs": [],
   "source": [
    "# print(const_tensor.shape, \"\\n\", var_tensor.shape)\n",
    "print(const_tensor)\n",
    "print(var_tensor)\n",
    "print(bool_tensor)"
   ]
  },
  {
   "cell_type": "markdown",
   "id": "98d2b73f",
   "metadata": {},
   "source": [
    "#### Exercise :Declare a tensor of shape (2, 2, 2, 2) with random numbers from a normal distribution whose mean and standard deviation are both 1."
   ]
  },
  {
   "cell_type": "code",
   "execution_count": null,
   "id": "6c57f192",
   "metadata": {},
   "outputs": [],
   "source": [
    "arr = np.random.randn(2,2,2,2)  #randn function gives mean = 0 & std.dev = 1"
   ]
  },
  {
   "cell_type": "code",
   "execution_count": null,
   "id": "dc19cd67",
   "metadata": {},
   "outputs": [],
   "source": [
    "print(\"shape: \", arr.shape)\n",
    "print(\"values: \", arr)"
   ]
  },
  {
   "cell_type": "code",
   "execution_count": null,
   "id": "82073336",
   "metadata": {},
   "outputs": [],
   "source": [
    "#if we want to achieve mean = 1 and std.dev = 1\n",
    "\n",
    "arr = (arr * 1) + 1\n",
    "print(arr)"
   ]
  },
  {
   "cell_type": "code",
   "execution_count": null,
   "id": "a42ad2d0",
   "metadata": {},
   "outputs": [],
   "source": [
    "arr_tf = tf.constant(arr)\n",
    "print(arr_tf)"
   ]
  },
  {
   "cell_type": "code",
   "execution_count": null,
   "id": "a75b0f7d",
   "metadata": {},
   "outputs": [],
   "source": [
    "print(type(arr_tf.numpy()))"
   ]
  },
  {
   "cell_type": "markdown",
   "id": "121706fc",
   "metadata": {},
   "source": [
    "#### using tensorflow"
   ]
  },
  {
   "cell_type": "code",
   "execution_count": null,
   "id": "339f33dd",
   "metadata": {},
   "outputs": [],
   "source": [
    "arr_tf2 = tf.random.normal(shape=(2,2,2,2), mean=1, stddev=1)\n",
    "print(arr_tf2.numpy())"
   ]
  },
  {
   "cell_type": "markdown",
   "id": "9ed3b5f4",
   "metadata": {},
   "source": [
    "### Commom mathematical operations"
   ]
  },
  {
   "cell_type": "code",
   "execution_count": null,
   "id": "9d8908b6",
   "metadata": {},
   "outputs": [],
   "source": [
    "x = tf.Variable([list(range(5))] * 5)\n",
    "y = tf.Variable([list(range(5, 10))] * 5)\n",
    "print(\"x: \", x)\n",
    "print(\"y: \", y)"
   ]
  },
  {
   "cell_type": "code",
   "execution_count": null,
   "id": "936b2b22",
   "metadata": {},
   "outputs": [],
   "source": [
    "\"\"\" Simple mathmatical operations\"\"\"\n",
    "\n",
    "z = x + y\n",
    "print(z)\n",
    "\n",
    "w = x * y\n",
    "print(w)\n",
    "\n",
    "v = x / y\n",
    "print(v)"
   ]
  },
  {
   "cell_type": "markdown",
   "id": "5c39290f",
   "metadata": {},
   "source": [
    "#### Linear algebra functions"
   ]
  },
  {
   "cell_type": "code",
   "execution_count": null,
   "id": "93469144",
   "metadata": {},
   "outputs": [],
   "source": [
    "y = tf.Variable([[1,2,3], [4,5,6], [7,8,9], [10,11,12], [13,14,15]])  #shape (5,3)\n",
    "z = tf.transpose(y)\n",
    "print(\"Before transpose: \", y)\n",
    "print(\"After transpose: \", z)"
   ]
  },
  {
   "cell_type": "code",
   "execution_count": null,
   "id": "35fb18b4",
   "metadata": {},
   "outputs": [],
   "source": [
    "tf.pow(y, 2)"
   ]
  },
  {
   "cell_type": "code",
   "execution_count": null,
   "id": "49951b8a",
   "metadata": {},
   "outputs": [],
   "source": [
    "tensor1 = tf.random.uniform(shape=(2,2), minval=1, maxval=20, dtype=tf.int32)\n",
    "\n",
    "tensor_sq = tensor1 * tensor1\n",
    "print(tensor1)\n",
    "print(tensor_sq)"
   ]
  },
  {
   "cell_type": "markdown",
   "id": "32cfd285",
   "metadata": {},
   "source": [
    "### Linear Algebra with Tensorflow"
   ]
  },
  {
   "cell_type": "code",
   "execution_count": 20,
   "id": "4f33a5e8",
   "metadata": {},
   "outputs": [
    {
     "name": "stdout",
     "output_type": "stream",
     "text": [
      "z:  tf.Tensor(\n",
      "[[ 100  110  120]\n",
      " [ 270  305  340]\n",
      " [ 440  500  560]\n",
      " [ 610  695  780]\n",
      " [ 780  890 1000]], shape=(5, 3), dtype=int32)\n"
     ]
    }
   ],
   "source": [
    "x = tf.Variable([[0,1,2,3,4], [5,6,7,8,9], [10,11,12,13,14], [15,16,17,18,19], [20,21,22,23,24]])\n",
    "y = tf.Variable([[0,1,2], [4,5,6], [7,8,9], [10,11,12], [13,14,15]])\n",
    "\n",
    "z = tf.linalg.matmul(x, y)\n",
    "print(\"z: \", z)"
   ]
  },
  {
   "cell_type": "markdown",
   "id": "ea9d6d27",
   "metadata": {},
   "source": [
    "#### Note: if tf.linalg.matmul raises expection when the size of matrix elements are imcompatible for matrix multiplication"
   ]
  },
  {
   "cell_type": "code",
   "execution_count": 23,
   "id": "7192349b",
   "metadata": {},
   "outputs": [
    {
     "name": "stdout",
     "output_type": "stream",
     "text": [
      "Exception raised when the size of matrix elements are imcompatible\n",
      " Value for attr 'T' of int32 is not in the list of allowed values: double, float, half, complex64, complex128\n",
      "\t; NodeDef: {{node MatrixInverse}}; Op<name=MatrixInverse; signature=input:T -> output:T; attr=adjoint:bool,default=false; attr=T:type,allowed=[DT_DOUBLE, DT_FLOAT, DT_HALF, DT_COMPLEX64, DT_COMPLEX128]> [Op:MatrixInverse]\n"
     ]
    }
   ],
   "source": [
    "# Matrix Inverse\n",
    "\n",
    "try:\n",
    "    x = tf.Variable([[2,3], [2,2]])\n",
    "    xinv = tf.linalg.inv(x)\n",
    "    print(\"inverse of x: \", xinv)\n",
    "except Exception as e:\n",
    "    print(\"Exception raised when the size of matrix elements are imcompatible\\n\", str(e))    "
   ]
  },
  {
   "cell_type": "markdown",
   "id": "3227ce61",
   "metadata": {},
   "source": [
    "#### Note that, for inverse matrix operation, we need to specify the type for the elements as \"float\" types"
   ]
  },
  {
   "cell_type": "code",
   "execution_count": 22,
   "id": "cbb87e3b",
   "metadata": {},
   "outputs": [
    {
     "name": "stdout",
     "output_type": "stream",
     "text": [
      "inverse of x:  tf.Tensor(\n",
      "[[-1.   1.5]\n",
      " [ 1.  -1. ]], shape=(2, 2), dtype=float32)\n"
     ]
    }
   ],
   "source": [
    "x = tf.Variable([[2,3], [2,2]], dtype=tf.float32)\n",
    "xinv = tf.linalg.inv(x)\n",
    "print(\"inverse of x: \", xinv)"
   ]
  },
  {
   "cell_type": "code",
   "execution_count": 29,
   "id": "08429f4e",
   "metadata": {},
   "outputs": [
    {
     "name": "stdout",
     "output_type": "stream",
     "text": [
      "inverse of coeff:  tf.Tensor(\n",
      "[[ 2.77777791e-01  5.55555224e-02 -1.66666672e-01  1.11111104e-01]\n",
      " [-7.40740746e-02  1.85185164e-01  1.11111104e-01  3.70370336e-02]\n",
      " [ 4.62962925e-01  9.25926119e-02  5.55555634e-02 -4.81481493e-01]\n",
      " [ 3.33333343e-01 -3.33333343e-01 -9.93410776e-09  3.33333343e-01]], shape=(4, 4), dtype=float32)\n",
      "x:  tf.Tensor(\n",
      "[[ 2.0000000e+00]\n",
      " [-1.0058284e-07]\n",
      " [ 5.9999995e+00]\n",
      " [ 5.0000005e+00]], shape=(4, 1), dtype=float32)\n"
     ]
    }
   ],
   "source": [
    "# Solving Linear equations\n",
    "# Eq: x + y + z + w     = 13\n",
    "# Eq: 2x + 3y − w       = −1\n",
    "# Eq: −3x + 4y + z + 2w = 10\n",
    "# Eq: x + 2y − z + w    = 1\n",
    "\n",
    "coeff = tf.Variable([[1, 1, 1, 1], [2, 3, 0, -1], [-3, 4, 1, 2], [1, 2, -1, 1]], \n",
    "                    dtype = tf.float32)\n",
    "\n",
    "y = tf.Variable([[13], [-1], [10], [1]], dtype=tf.float32)\n",
    "\n",
    "inv_coeff = tf.linalg.inv(coeff)\n",
    "print('inverse of coeff: ', inv_coeff)\n",
    "\n",
    "#solving x, y, z, w\n",
    "x = tf.matmul(inv_coeff, y)\n",
    "\n",
    "print(\"x: \", x)\n",
    "#print(\"y: \", x * coeff)"
   ]
  },
  {
   "cell_type": "code",
   "execution_count": 60,
   "id": "92028ea1",
   "metadata": {},
   "outputs": [
    {
     "name": "stdout",
     "output_type": "stream",
     "text": [
      "[[0.62480646]]\n"
     ]
    }
   ],
   "source": [
    "### Question 1\n",
    "W = tf.Variable([[0.5], [1.0], [-1.2]])\n",
    "x = tf.Variable([[0.2, 1,  0.5]])\n",
    "b = tf.Variable([[0.01]])\n",
    "\n",
    "val = tf.add(tf.matmul(x, W), b)\n",
    "\n",
    "sig = tf.sigmoid(val)\n",
    "print(sig.numpy())"
   ]
  },
  {
   "cell_type": "code",
   "execution_count": null,
   "id": "ff9b0020",
   "metadata": {},
   "outputs": [],
   "source": []
  },
  {
   "cell_type": "code",
   "execution_count": null,
   "id": "bb2eeba5",
   "metadata": {},
   "outputs": [],
   "source": []
  },
  {
   "cell_type": "code",
   "execution_count": null,
   "id": "139e958e",
   "metadata": {},
   "outputs": [],
   "source": []
  }
 ],
 "metadata": {
  "kernelspec": {
   "display_name": "Python 3 (ipykernel)",
   "language": "python",
   "name": "python3"
  },
  "language_info": {
   "codemirror_mode": {
    "name": "ipython",
    "version": 3
   },
   "file_extension": ".py",
   "mimetype": "text/x-python",
   "name": "python",
   "nbconvert_exporter": "python",
   "pygments_lexer": "ipython3",
   "version": "3.9.12"
  }
 },
 "nbformat": 4,
 "nbformat_minor": 5
}
