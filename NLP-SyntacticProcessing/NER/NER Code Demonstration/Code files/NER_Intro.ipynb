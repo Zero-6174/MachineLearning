{
 "cells": [
  {
   "cell_type": "markdown",
   "id": "a2aaf5ce-d18a-4a9c-9c9c-47bd92303734",
   "metadata": {},
   "source": [
    "### Named Entity Recognition - Introduction"
   ]
  },
  {
   "cell_type": "code",
   "execution_count": 1,
   "id": "8f15a6e8-7c79-415c-85b1-100f2e4314fe",
   "metadata": {},
   "outputs": [
    {
     "name": "stderr",
     "output_type": "stream",
     "text": [
      "2023-03-15 11:42:09.139113: I tensorflow/core/platform/cpu_feature_guard.cc:193] This TensorFlow binary is optimized with oneAPI Deep Neural Network Library (oneDNN) to use the following CPU instructions in performance-critical operations:  AVX2 FMA\n",
      "To enable them in other operations, rebuild TensorFlow with the appropriate compiler flags.\n"
     ]
    }
   ],
   "source": [
    "import spacy"
   ]
  },
  {
   "cell_type": "code",
   "execution_count": 2,
   "id": "4874adf6-f708-4b02-89ad-6b1e4a30d88a",
   "metadata": {},
   "outputs": [],
   "source": [
    "model = spacy.load(\"en_core_web_sm\")"
   ]
  },
  {
   "cell_type": "code",
   "execution_count": 15,
   "id": "019b7ea9-3dda-4efc-bff8-42b58b9135ca",
   "metadata": {},
   "outputs": [],
   "source": [
    "doc = \"Sumit is an adjunct faculty at Upgrad. \""
   ]
  },
  {
   "cell_type": "code",
   "execution_count": 16,
   "id": "f9566237-2406-4e8c-96a3-4c0ea39ebe74",
   "metadata": {},
   "outputs": [],
   "source": [
    "proc_doc = model(doc)"
   ]
  },
  {
   "cell_type": "code",
   "execution_count": 17,
   "id": "eec1e4cd-cd7d-4e32-b85a-8589cc4b2da8",
   "metadata": {},
   "outputs": [
    {
     "name": "stdout",
     "output_type": "stream",
     "text": [
      "Sumit  --  NOUN\n",
      "is  --  AUX\n",
      "an  --  DET\n",
      "adjunct  --  ADJ\n",
      "faculty  --  NOUN\n",
      "at  --  ADP\n",
      "Upgrad  --  PROPN\n",
      ".  --  PUNCT\n"
     ]
    }
   ],
   "source": [
    "for tok in proc_doc:\n",
    "    print(tok.text, \" -- \", tok.pos_)"
   ]
  },
  {
   "cell_type": "code",
   "execution_count": 18,
   "id": "99998fc2-8323-40a9-94f0-2dec348c0536",
   "metadata": {},
   "outputs": [
    {
     "name": "stdout",
     "output_type": "stream",
     "text": [
      "Upgrad  --  31  --  37  --  ORG\n"
     ]
    }
   ],
   "source": [
    "for ent in proc_doc.ents:\n",
    "    print(ent.text, \" -- \", ent.start_char, \" -- \", ent.end_char, \" -- \", ent.label_)"
   ]
  },
  {
   "cell_type": "code",
   "execution_count": 20,
   "id": "2a562684-96bd-4ecf-9d47-c18d16b6e215",
   "metadata": {},
   "outputs": [],
   "source": [
    "doc2 = \"Dr. Sumit is an adjunct faculty at UpGrad\"\n",
    "proc_doc2 = model(doc2)"
   ]
  },
  {
   "cell_type": "code",
   "execution_count": 22,
   "id": "fa65be3a-2632-4830-a5b5-7461b80ea203",
   "metadata": {},
   "outputs": [
    {
     "name": "stdout",
     "output_type": "stream",
     "text": [
      "Dr.  --  PROPN\n",
      "Sumit  --  PROPN\n",
      "is  --  AUX\n",
      "an  --  DET\n",
      "adjunct  --  ADJ\n",
      "faculty  --  NOUN\n",
      "at  --  ADP\n",
      "UpGrad  --  PROPN\n"
     ]
    }
   ],
   "source": [
    "for tok in proc_doc2:\n",
    "    print(tok.text, \" -- \", tok.pos_)"
   ]
  },
  {
   "cell_type": "code",
   "execution_count": 24,
   "id": "8d64d8b5-3e28-4e5a-a817-91deee0d7062",
   "metadata": {},
   "outputs": [
    {
     "name": "stdout",
     "output_type": "stream",
     "text": [
      "Sumit  --  4  --  9  --  PERSON\n",
      "UpGrad  --  35  --  41  --  ORG\n"
     ]
    }
   ],
   "source": [
    "for ent in proc_doc2.ents:\n",
    "    print(ent.text, \" -- \", ent.start_char, \" -- \", ent.end_char, \" -- \", ent.label_)"
   ]
  },
  {
   "cell_type": "code",
   "execution_count": 29,
   "id": "e746a632-5b1d-4d46-9c87-64ac21ee15e8",
   "metadata": {},
   "outputs": [
    {
     "name": "stdout",
     "output_type": "stream",
     "text": [
      "Statue  --  PROPN\n",
      "of  --  ADP\n",
      "Liberty  --  PROPN\n",
      "is  --  AUX\n",
      "situated  --  VERB\n",
      "in  --  ADP\n",
      "New  --  PROPN\n",
      "York  --  PROPN\n",
      ",  --  PUNCT\n",
      "USA  --  PROPN\n",
      ".  --  PUNCT\n",
      "\n",
      "New York  --  33  --  41  --  GPE\n",
      "USA  --  43  --  46  --  GPE\n"
     ]
    }
   ],
   "source": [
    "doc3 = \"Statue of Liberty is situated in New York, USA.\"\n",
    "proc_doc3 = model(doc3)\n",
    "\n",
    "for tok in proc_doc3:\n",
    "    print(tok.text, \" -- \", tok.pos_)\n",
    "\n",
    "print()\n",
    "for ent in proc_doc3.ents:\n",
    "    print(ent.text, \" -- \", ent.start_char, \" -- \", ent.end_char, \" -- \", ent.label_)"
   ]
  },
  {
   "cell_type": "code",
   "execution_count": 31,
   "id": "581debe7-5a36-4334-8c6b-34bb061eca58",
   "metadata": {},
   "outputs": [
    {
     "name": "stdout",
     "output_type": "stream",
     "text": [
      "Statue  --  O  --  \n",
      "of  --  O  --  \n",
      "Liberty  --  O  --  \n",
      "is  --  O  --  \n",
      "situated  --  O  --  \n",
      "in  --  O  --  \n",
      "New  --  B  --  GPE\n",
      "York  --  I  --  GPE\n",
      ",  --  O  --  \n",
      "USA  --  B  --  GPE\n",
      ".  --  O  --  \n"
     ]
    }
   ],
   "source": [
    "for token in proc_doc3:\n",
    "    print(token.text, \" -- \", token.ent_iob_, \" -- \", token.ent_type_)"
   ]
  },
  {
   "cell_type": "code",
   "execution_count": null,
   "id": "f5ec72a4-f4bf-4386-8168-a080e889b607",
   "metadata": {},
   "outputs": [],
   "source": []
  },
  {
   "cell_type": "code",
   "execution_count": 32,
   "id": "858b97a4-1877-4b34-b940-ef84f2a4d66b",
   "metadata": {},
   "outputs": [],
   "source": [
    "email = ('Dear Family, Jose Luis and I have changed our dates, we are '\n",
    "         'going to come to Aspen on the 23rd of December and leave on the '\n",
    "         '30th of December. We would like to stay in the front bedroom of '\n",
    "         'the Aspen Cottage so that Mark, Natalie and Zachary can stay in '\n",
    "         'the guest cottage. Please let me know if there are any problems '\n",
    "         'with this. If I do not hear anything, I will assume this is all '\n",
    "         'o.k. with you.'\n",
    "         'Love, Liz')"
   ]
  },
  {
   "cell_type": "code",
   "execution_count": 57,
   "id": "cb361a89-2992-456b-864f-cf2cb8966627",
   "metadata": {},
   "outputs": [],
   "source": [
    "proc_email = model(email)"
   ]
  },
  {
   "cell_type": "code",
   "execution_count": 69,
   "id": "54589154-eb2a-495e-a87e-d695866f7485",
   "metadata": {},
   "outputs": [],
   "source": [
    "anon_email = list(email)"
   ]
  },
  {
   "cell_type": "code",
   "execution_count": 61,
   "id": "63c36f17-7bce-413f-977b-4303bc8b784d",
   "metadata": {},
   "outputs": [
    {
     "name": "stdout",
     "output_type": "stream",
     "text": [
      "Jaguar -- ORG\n"
     ]
    }
   ],
   "source": [
    "for ent in proc_email.ents:\n",
    "    print(ent.text, \"--\", ent.label_)"
   ]
  },
  {
   "cell_type": "code",
   "execution_count": 70,
   "id": "f739b110-1867-44f5-94ce-d62400d08160",
   "metadata": {},
   "outputs": [],
   "source": [
    "for ent in proc_email.ents:\n",
    "    if ent.label_ == \"PERSON\" or ent.label_ == \"DATE\":\n",
    "        for index in range(ent.start_char, ent.end_char):\n",
    "            anon_email[index] = '*'\n",
    "\n",
    "anon_email = \"\".join(anon_email)"
   ]
  },
  {
   "cell_type": "code",
   "execution_count": 66,
   "id": "12616752-a54c-48dd-ac88-a0567de3a54a",
   "metadata": {},
   "outputs": [],
   "source": [
    "for ent in proc_email.ents:\n",
    "  if ent.label_ == \"DATE\":\n",
    "    for char_pos in range(ent.start_char, ent.end_char): # use character positions\n",
    "      anon_email[char_pos] = '#'\n",
    "anon_email = \"\".join(anon_email)"
   ]
  },
  {
   "cell_type": "code",
   "execution_count": 71,
   "id": "39d194a8-69ad-43a9-b43f-eaa3de75d61d",
   "metadata": {},
   "outputs": [
    {
     "name": "stdout",
     "output_type": "stream",
     "text": [
      "Dear Family, Jose Luis and I have changed our dates, we are going to come to Aspen on the 23rd of December and leave on the 30th of December. We would like to stay in the front bedroom of the Aspen Cottage so that Mark, Natalie and Zachary can stay in the guest cottage. Please let me know if there are any problems with this. If I do not hear anything, I will assume this is all o.k. with you.Love, Liz\n"
     ]
    }
   ],
   "source": [
    "print(email)"
   ]
  },
  {
   "cell_type": "code",
   "execution_count": 72,
   "id": "f0f3ff83-30c0-46f7-825c-6e8aa3f866be",
   "metadata": {},
   "outputs": [
    {
     "name": "stdout",
     "output_type": "stream",
     "text": [
      "Dear Family, ********* and I have changed our dates, we are going to come to Aspen on ******************** and leave on ********************. We would like to stay in the front bedroom of the Aspen Cottage so that ****, ******* and ******* can stay in the guest cottage. Please let me know if there are any problems with this. If I do not hear anything, I will assume this is all o.k. with you.Love, ***\n"
     ]
    }
   ],
   "source": [
    "print(anon_email)"
   ]
  },
  {
   "cell_type": "code",
   "execution_count": null,
   "id": "76462425-5d85-4cca-91b7-3cdac8154f52",
   "metadata": {},
   "outputs": [],
   "source": []
  }
 ],
 "metadata": {
  "kernelspec": {
   "display_name": "Python 3 (ipykernel)",
   "language": "python",
   "name": "python3"
  },
  "language_info": {
   "codemirror_mode": {
    "name": "ipython",
    "version": 3
   },
   "file_extension": ".py",
   "mimetype": "text/x-python",
   "name": "python",
   "nbconvert_exporter": "python",
   "pygments_lexer": "ipython3",
   "version": "3.9.12"
  }
 },
 "nbformat": 4,
 "nbformat_minor": 5
}
